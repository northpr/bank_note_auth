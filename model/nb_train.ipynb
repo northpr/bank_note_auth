{
 "cells": [
  {
   "cell_type": "code",
   "execution_count": null,
   "metadata": {},
   "outputs": [],
   "source": []
  }
 ],
 "metadata": {
  "kernelspec": {
   "display_name": "bank_note_auth",
   "language": "python",
   "name": "python3"
  },
  "language_info": {
   "name": "python",
   "version": "3.10.8 (main, Nov 24 2022, 08:09:04) [Clang 14.0.6 ]"
  },
  "orig_nbformat": 4,
  "vscode": {
   "interpreter": {
    "hash": "37870cac506c785a224cd457e7588b2ef4992324837d8393bbf135036fc41b25"
   }
  }
 },
 "nbformat": 4,
 "nbformat_minor": 2
}
